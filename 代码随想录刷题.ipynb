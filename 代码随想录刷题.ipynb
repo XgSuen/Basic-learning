{
 "cells": [
  {
   "cell_type": "code",
   "execution_count": 1,
   "id": "dfbf51a9-e02b-428d-bf18-0fad881619ad",
   "metadata": {
    "tags": []
   },
   "outputs": [],
   "source": [
    "import math"
   ]
  },
  {
   "cell_type": "markdown",
   "id": "b3590a31-de50-4411-bc8e-af45620ed248",
   "metadata": {
    "tags": []
   },
   "source": [
    "## 字符串"
   ]
  },
  {
   "cell_type": "markdown",
   "id": "5311470c-c1d4-4204-b2c8-1b6237a5e5d8",
   "metadata": {},
   "source": [
    "### 1. KMP算法  "
   ]
  },
  {
   "attachments": {
    "7722600b-231d-486b-82a7-9e98b4409ce2.png": {
     "image/png": "[encoded data removed]"
    }
   },
   "cell_type": "markdown",
   "id": "6b85f813-2220-41a2-970b-cbe86ec1bdb9",
   "metadata": {},
   "source": [
    "KMP算法用于解决字符串匹配问题，假设文本串长度为m，模式串长度为n，当我们使用暴力匹配时，时间复杂度为$O(m*n)$.  \n",
    "思想：当出现字符串不匹配时，可以记录一部分之前已经匹配的文本内容，利用这些信息避免从头再去做匹配。  \n",
    "为此，我们要找到\"最长相等前后缀\"，字符串的前缀是指包含首字符但不包含尾字符的子串，后缀即包含尾字符但不包含首字符的子串。 \n",
    "我们需要建立前缀表来告诉我们以某个字符结尾的最长相等前后缀的长度。前缀表就是KMP中核心的next数组。  \n",
    "![image.png](attachment:7722600b-231d-486b-82a7-9e98b4409ce2.png)  \n",
    "next数组即可以就是前缀表，也可以是前缀表统一减一（右移一位，初始位置为-1）。  \n",
    "使用next数组来进行匹配，时间复杂度可以降到$O(m+n)$。  "
   ]
  },
  {
   "cell_type": "code",
   "execution_count": 1,
   "id": "d646b7a7-b9c4-4517-a595-4bbe7499553d",
   "metadata": {},
   "outputs": [],
   "source": [
    "def getNext(next, s):\n",
    "    \"\"\"\n",
    "    双指针法构建next数组，最关键步骤为j=next[j-1]\n",
    "    \"\"\"\n",
    "    # 初始化j = 0\n",
    "    j = 0\n",
    "    next[0] = 0\n",
    "    for i in range(1, len(s)):\n",
    "        # 从1开始遍历i，判断s[i]和s[j]是否匹配\n",
    "        # 若不匹配，则j回退到前一位next数组对应的位置，即以第j-1个字符为结尾的字串的最长相等前缀的后一个位置，从这个开始匹配\n",
    "        # 注意这边是while，要不断回退指导匹配上或者j=0为止，必须保证j>0，因为要取next[j-1]\n",
    "        # 然后赋值next[i] = j\n",
    "        while j > 0 and s[i] != s[j]:\n",
    "            # 关键步骤\n",
    "            j = next[j-1]\n",
    "        # 如果相等，此时以第i个字符结尾的字串，最长相等前后缀长度其实就是j+1，则j+=1, 赋值next[i]=j\n",
    "        if s[i] == s[j]:\n",
    "            j += 1\n",
    "        # 将相等和不相等两种情况合并\n",
    "        next[i] = j"
   ]
  },
  {
   "cell_type": "code",
   "execution_count": 2,
   "id": "3daef01d-3549-4836-9f72-0cb6fe58aa17",
   "metadata": {},
   "outputs": [
    {
     "data": {
      "text/plain": [
       "[0, 1, 0, 1, 2, 0]"
      ]
     },
     "execution_count": 2,
     "metadata": {},
     "output_type": "execute_result"
    }
   ],
   "source": [
    "# 测试\n",
    "s = 'aabaaf'\n",
    "next = [0]*len(s)\n",
    "getNext(next, s)\n",
    "next"
   ]
  },
  {
   "cell_type": "code",
   "execution_count": 3,
   "id": "82a098dd-9fa5-4590-8479-ec6f2135465d",
   "metadata": {},
   "outputs": [],
   "source": [
    "def getNext_1(next, s):\n",
    "    \"\"\"\n",
    "    前缀表减一实现，最关键步骤为j=next[j]\n",
    "    \"\"\"\n",
    "    # 初始化j = -1\n",
    "    j = -1\n",
    "    next[0] = -1\n",
    "    for i in range(1, len(s)):\n",
    "        # 从1开始遍历i，判断s[i]和s[j]是否匹配\n",
    "        # 若不匹配，则j回退到前一位next数组对应的位置，即以第j-1个字符为结尾的字串的最长相等前缀的后一个位置，从这个开始匹配\n",
    "        # 注意这边是while，要不断回退指导匹配上或者j=0为止，必须保证j>0，因为要取next[j-1]\n",
    "        # 然后赋值next[i] = j\n",
    "        while j >= 0 and s[i] != s[j+1]:\n",
    "            j = next[j]\n",
    "        # 如果相等，此时以第i个字符结尾的字串，最长相等前后缀长度其实就是j+1，则j+=1, 赋值next[i]=j\n",
    "        if s[i] == s[j+1]:\n",
    "            j += 1\n",
    "        # 将相等和不相等两种情况合并\n",
    "        next[i] = j"
   ]
  },
  {
   "cell_type": "code",
   "execution_count": 4,
   "id": "329956c3-2e16-49d3-93b9-4694d5924fa5",
   "metadata": {},
   "outputs": [
    {
     "data": {
      "text/plain": [
       "[-1, 0, -1, 0, 1, -1]"
      ]
     },
     "execution_count": 4,
     "metadata": {},
     "output_type": "execute_result"
    }
   ],
   "source": [
    "# 测试\n",
    "s = 'aabaaf'\n",
    "next = [0]*len(s)\n",
    "getNext_1(next, s)\n",
    "next"
   ]
  },
  {
   "cell_type": "code",
   "execution_count": 7,
   "id": "3dbd902a-01b8-4316-9fe7-3d76dc9de039",
   "metadata": {},
   "outputs": [],
   "source": [
    "def strStr(haystack, needle):\n",
    "    \"\"\"\n",
    "    利用next数组匹配\n",
    "    \"\"\"\n",
    "    m, n = len(haystack), len(needle)\n",
    "    next = [0] * n\n",
    "    getNext(next, needle)\n",
    "    j = -1\n",
    "    for i in range(m):\n",
    "        while j > 0 and haystack[i] != needle[j]:\n",
    "            j = next[j-1]\n",
    "        if haystack[i] == needle[j]:\n",
    "            j += 1\n",
    "        # 由于匹配时j先加1，所以要判断j是否等于n来证明完全匹配\n",
    "        if j == n:\n",
    "            return i - n + 1\n",
    "    return -1"
   ]
  },
  {
   "cell_type": "code",
   "execution_count": null,
   "id": "e27d16e0-17b6-48df-875b-75ce87b92591",
   "metadata": {},
   "outputs": [],
   "source": []
  }
 ],
 "metadata": {
  "kernelspec": {
   "display_name": "Python 3 (ipykernel)",
   "language": "python",
   "name": "python3"
  },
  "language_info": {
   "codemirror_mode": {
    "name": "ipython",
    "version": 3
   },
   "file_extension": ".py",
   "mimetype": "text/x-python",
   "name": "python",
   "nbconvert_exporter": "python",
   "pygments_lexer": "ipython3",
   "version": "3.9.7"
  }
 },
 "nbformat": 4,
 "nbformat_minor": 5
}
